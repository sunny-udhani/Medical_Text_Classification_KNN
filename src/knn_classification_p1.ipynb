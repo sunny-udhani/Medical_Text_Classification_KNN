{
 "cells": [
  {
   "cell_type": "markdown",
   "metadata": {},
   "source": [
    "### Medical abstracts describe the current conditions of a patient. Doctors routinely scan dozens or hundreds of abstracts each day as they do their rounds in a hospital and must quickly pick up on the salient information pointing to the patient’s malady. You are trying to design assistive technology that can identify, with high precision, the class of problems described in the abstract. In the given dataset, abstracts from 5 different conditions have been included: digestive system diseases, cardiovascular diseases, neoplasms, nervous system diseases, and general pathological conditions.\n",
    "\n",
    "* Choose appropriate techniques for modeling text.\n",
    "* Implement the k-nearest neighbor classifier (cannot use libraries for this algorithm).\n",
    "* Use your version of the k-NN classifier to assign classes to medical texts.\n",
    "* Think about dealing with imbalanced data.\n",
    "* Evaluate results using the F1 Scoring Metric."
   ]
  },
  {
   "cell_type": "code",
   "execution_count": 1,
   "metadata": {},
   "outputs": [],
   "source": [
    "import numpy as np\n",
    "import pandas as pd\n",
    "import scipy.sparse as sp\n",
    "from collections import Counter, defaultdict\n",
    "from scipy.sparse import csr_matrix\n",
    "from nltk.corpus import stopwords\n",
    "import string\n",
    "from sklearn.feature_extraction.text import TfidfVectorizer\n",
    "import matplotlib.pyplot as plt\n",
    "from sklearn.model_selection import train_test_split\n",
    "from sklearn.metrics import precision_recall_fscore_support\n",
    "from nltk.stem import WordNetLemmatizer\n",
    "from imblearn.over_sampling import SMOTE"
   ]
  },
  {
   "cell_type": "code",
   "execution_count": 2,
   "metadata": {},
   "outputs": [],
   "source": [
    "# utility to read data as panda dataframe\n",
    "\n",
    "def give_me_a_frame(data_location):\n",
    "    return pd.read_csv(\n",
    "        filepath_or_buffer=data_location, \n",
    "        header=None, \n",
    "        sep='\\n')"
   ]
  },
  {
   "cell_type": "code",
   "execution_count": 3,
   "metadata": {},
   "outputs": [],
   "source": [
    "# utility to perform preprocessing tests\n",
    "\n",
    "def preprocess(statements):\n",
    "\n",
    "    s = set(stopwords.words('english'))\n",
    "    stemmer = WordNetLemmatizer()\n",
    "    table = str.maketrans('', '', string.punctuation)\n",
    "    digit_table = str.maketrans('', '', string.digits)\n",
    "    \n",
    "    result = []\n",
    "    for statement in statements:\n",
    "#       after lowercasing the sentence, remove digits, stopwords and lematization\n",
    "        \n",
    "        statement = statement.lower()\n",
    "        temp = list(filter(lambda w: not w in s,statement.split()))\n",
    "        stripped_punc_fix = [w.translate(table) for w in temp]\n",
    "        stripped_digit_fix = [w.translate(digit_table) for w in stripped_punc_fix]\n",
    "        stripped_wordlen_fix = [d for d in stripped_digit_fix if len(d) > 1]\n",
    "        stripped_stemmer_fix = [stemmer.lemmatize(stemmer_word) for stemmer_word in stripped_wordlen_fix]\n",
    "        result.append(\" \".join(stripped_stemmer_fix))\n",
    "\n",
    "    return result"
   ]
  },
  {
   "cell_type": "code",
   "execution_count": 4,
   "metadata": {},
   "outputs": [],
   "source": [
    "# utility to transform a bag of words to csr-matrix\n",
    "\n",
    "def build_matrix(train, test, n):\n",
    "    vectorizer = TfidfVectorizer(norm='l2'\n",
    "                                 ,ngram_range=(1,n)\n",
    "                                 ,min_df=3 \n",
    "                                )\n",
    "    return vectorizer.fit_transform(train),vectorizer.transform(test)"
   ]
  },
  {
   "cell_type": "code",
   "execution_count": 5,
   "metadata": {},
   "outputs": [],
   "source": [
    "# utility to predict output class of a single input object using k-nearest neighbors\n",
    "\n",
    "def predict_output(train_matrix, test_vector, train_classes,  k=3 ):\n",
    "    dot_product = test_vector.dot(train_matrix.T)\n",
    "    sims = list(zip(dot_product.indices, dot_product.data))\n",
    "    sims.sort(key=lambda x: x[1], reverse=True)\n",
    "    \n",
    "#     take majority vote instead of using inverse similarity, decreased performance\n",
    "#     tc = Counter(train_classes[s[0]] for s in sims[:k]).most_common()\n",
    "#     if len(tc) < 2 or tc[0][1] > tc[1][1]:\n",
    "#             # majority vote\n",
    "#             return tc[0][0]\n",
    "\n",
    "    tc = defaultdict(float)\n",
    "    for s in sims[:k]:\n",
    "                tc[train_classes[s[0]]] += s[1]\n",
    "    return sorted(tc.items(), key=lambda x: x[1], reverse=True)[0][0]"
   ]
  },
  {
   "cell_type": "code",
   "execution_count": 6,
   "metadata": {},
   "outputs": [],
   "source": [
    "def splitData(mat, cls, fold=1, d=10):\n",
    "    r\"\"\" Split the matrix and class info into train and test data using d-fold hold-out\n",
    "    \"\"\"\n",
    "    n = mat.shape[0]\n",
    "    r = int(np.ceil(n*1.0/d))\n",
    "    print(r)\n",
    "    mattr = []\n",
    "    clstr = []\n",
    "    # split mat and cls into d folds\n",
    "    for f in range(d):\n",
    "#         if f+1 != fold:\n",
    "            mattr.append( mat[f*r: min((f+1)*r, n)] )\n",
    "            clstr.extend( cls[f*r: min((f+1)*r, n)] )\n",
    "#     print(mattr)\n",
    "    # join all fold matrices that are not the test matrix\n",
    "    train = sp.vstack(mattr)\n",
    "    # extract the test matrix and class values associated with the test rows\n",
    "#     test = mat[(fold-1)*r: min(fold*r, n), :]\n",
    "#     clste = cls[(fold-1)*r: min(fold*r, n)]\n",
    "\n",
    "    return train, clstr"
   ]
  },
  {
   "cell_type": "code",
   "execution_count": 7,
   "metadata": {},
   "outputs": [],
   "source": [
    "# peform steps on the train data to view evaluation\n",
    "\n",
    "def classify(statements, statements_test, classes, c, k):\n",
    "    \n",
    "    statements = preprocess(statements)\n",
    "    statements_test = preprocess(statements_test)\n",
    "    classes = np.array(classes)\n",
    "    X_Train, X_test = build_matrix(statements,statements_test,c)\n",
    "    \n",
    "#   fix unbalanced data set\n",
    "    nm = SMOTE(random_state=21)\n",
    "    X_res, y_res = nm.fit_sample(X_Train, classes)\n",
    "\n",
    "    X_train, X_test, y_train, y_test = train_test_split(X_res, y_res, test_size=0.33, random_state=21)\n",
    "    y_pred = [predict_output(X_train,x,y_train,k) for x in X_test]\n",
    "    print(precision_recall_fscore_support(y_test, y_pred, average='macro'))"
   ]
  },
  {
   "cell_type": "markdown",
   "metadata": {},
   "source": [
    "### The goal is to develop predictive models that can determine, given a particular medical abstract, which one of 5 classes it belongs to. As such, the goal would be to develop the best classification model, with the restriction that only use your own implementation of the k-NN classifier. There are many choices in text pre-processing and modeling, proximity measures, and classifier meta-parameters that will lead to many different solutions for the problem."
   ]
  },
  {
   "cell_type": "code",
   "execution_count": 12,
   "metadata": {},
   "outputs": [],
   "source": [
    "df = give_me_a_frame('../data/train.dat')   \n",
    "df = pd.DataFrame(df[0].str.split('\\t', 1).tolist())\n",
    "statements = df[1]\n",
    "classes = df[0]\n",
    "\n",
    "# n, bins, patches = plt.hist(classes)\n",
    "# plt.show()\n",
    "\n",
    "df = give_me_a_frame('../data/test.dat')\n",
    "statements_test = df[0]"
   ]
  },
  {
   "cell_type": "code",
   "execution_count": 13,
   "metadata": {},
   "outputs": [
    {
     "name": "stdout",
     "output_type": "stream",
     "text": [
      "['catheterization laboratory event hospital outcome direct angioplasty acute myocardial infarction ass safety direct infarct angioplasty without antecedent thrombolytic therapy catheterization laboratory hospital event assessed consecutively treated patient infarction involving left anterior descending patient right circumflex coronary artery group patient similar age left anterior descending coronary artery year right coronary artery year circumflex coronary artery year patient multivessel disease left anterior descending coronary artery right coronary artery circumflex coronary artery patient initial grade antegrade flow left anterior descending coronary artery right coronary artery circumflex coronary artery cardiogenic shock present eight patient infarction left anterior descending coronary artery four infarction right coronary artery four infarction circumflex coronary artery major catheterization laboratory event cardioversion cardiopulmonary resuscitation dopamine intraaortic balloon pump support hypotension urgent surgery occurred patient infarction left anterior descending coronary artery eight infarction right coronary artery four infarction circumflex coronary artery shock six nonshock patient le one inlaboratory death shock patient infarction left anterior descending coronary artery']\n"
     ]
    }
   ],
   "source": [
    "statements = preprocess(statements)\n",
    "statements_test = preprocess(statements_test)\n",
    "classes = np.array(classes)\n",
    "# df = pd.DataFrame({'aaj':statements})\n",
    "\n",
    "print(statements[:1])\n",
    "# df[df['aaj'].str.contains('acut')]\n",
    "\n",
    "\n",
    "X_Train, X_test = build_matrix(statements,statements_test,2)"
   ]
  },
  {
   "cell_type": "code",
   "execution_count": 14,
   "metadata": {},
   "outputs": [
    {
     "data": {
      "image/png": "[encoded data removed]",
      "text/plain": [
       "<Figure size 432x288 with 1 Axes>"
      ]
     },
     "metadata": {},
     "output_type": "display_data"
    }
   ],
   "source": [
    "nm = SMOTE(random_state=21)\n",
    "X_res, y_res = nm.fit_sample(X_Train, classes)\n",
    "labels, values = zip(*Counter(y_res).most_common())\n",
    "indexes = np.arange(len(labels))\n",
    "width = 1\n",
    "plt.bar(indexes, values, width)\n",
    "plt.xticks(indexes + width * 0.5, labels)\n",
    "plt.show()"
   ]
  },
  {
   "cell_type": "code",
   "execution_count": null,
   "metadata": {},
   "outputs": [],
   "source": [
    "X_train, x_test, y_train, y_test = train_test_split(X_res, y_res, test_size=0.33, random_state=21)\n",
    "# X_train, x_test, y_train, y_test = train_test_split(X_Train, classes, test_size=0.33, random_state=21)\n",
    "\n",
    "# # X_train.append(x_test)\n",
    "X_train = sp.vstack([X_train,x_test])\n",
    "# # y_train.extend(y_test)\n",
    "y_train = np.append(y_train,y_test)\n",
    "# # y_pred = [predict_output(X_train,x,y_train,8) for x in X_test]\n",
    "# print(X_train.shape[0])\n",
    "# print(y_train.shape[0])\n",
    "\n",
    "with open('out.dat', 'w') as f:\n",
    "    for i in range(X_test.shape[0]):\n",
    "        f.write(\"%s\\n\" % (predict_output(X_train, X_test[i], y_train, 73)))\n",
    "        \n",
    "# clspr = [predict_output(X_Train, x_test, classes, 5) for x_test in X_test]\n",
    "# print(clspr)\n",
    "# aaj = cosine_similarity(X_test[:1],X_Train).flatten()\n",
    "# kal = X_test[:1].dot(X_Train.T)\n",
    "# similar_docs = aaj.argsort()[:-6:-1]\n",
    "# statements = np.array(statements)\n",
    "# classes = np.array(classes)\n",
    "# print(similar_docs)\n",
    "# print(classes[similar_docs])\n",
    "# print(kal)"
   ]
  },
  {
   "cell_type": "markdown",
   "metadata": {},
   "source": [
    "### Evaluate training data"
   ]
  },
  {
   "cell_type": "code",
   "execution_count": null,
   "metadata": {},
   "outputs": [],
   "source": [
    "for c in range(2,3):\n",
    "    for k in range(73,74):\n",
    "        classify(statements, statements_test, classes, c, k)"
   ]
  },
  {
   "cell_type": "code",
   "execution_count": null,
   "metadata": {},
   "outputs": [],
   "source": []
  }
 ],
 "metadata": {
  "kernelspec": {
   "display_name": "Python 3",
   "language": "python",
   "name": "python3"
  },
  "language_info": {
   "codemirror_mode": {
    "name": "ipython",
    "version": 3
   },
   "file_extension": ".py",
   "mimetype": "text/x-python",
   "name": "python",
   "nbconvert_exporter": "python",
   "pygments_lexer": "ipython3",
   "version": "3.6.5"
  }
 },
 "nbformat": 4,
 "nbformat_minor": 1
}
